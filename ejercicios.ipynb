{
  "nbformat": 4,
  "nbformat_minor": 0,
  "metadata": {
    "colab": {
      "provenance": [],
      "authorship_tag": "ABX9TyNB08FtKgqrQ01cR6dXlLWu",
      "include_colab_link": true
    },
    "kernelspec": {
      "name": "python3",
      "display_name": "Python 3"
    },
    "language_info": {
      "name": "python"
    }
  },
  "cells": [
    {
      "cell_type": "markdown",
      "metadata": {
        "id": "view-in-github",
        "colab_type": "text"
      },
      "source": [
        "<a href=\"https://colab.research.google.com/github/ingeluis22/ejercicio-condici-nale-/blob/main/ejercicios.ipynb\" target=\"_parent\"><img src=\"https://colab.research.google.com/assets/colab-badge.svg\" alt=\"Open In Colab\"/></a>"
      ]
    },
    {
      "cell_type": "markdown",
      "source": [
        "# Condicionales\n",
        "- Presentado por: Luis Castaño\n",
        "- Email: luis.castanoc@upb.edu.co\n",
        "Ejercicios sobre condicionales.\n",
        "\n",
        "#Problema: Cálculo del Precio de Boletas en el Cine\n",
        "- Descripción del problema:\n",
        "Un cine local ofrece promociones en las entradas según el horario de la función. Las reglas para determinar el costo de las entradas son las siguientes:\n",
        "\n",
        "Para cualquier función antes de las 6:00 p.m., las entradas tienen los siguientes precios:\n",
        "\n",
        "- Niños: $ 5000 COP.\n",
        "- Adultos: $ 7500 COP.\n",
        "- Entrada general: $ 10000 COP por persona.\n",
        "Además, si el total de la compra supera los $50000 COP, el cine regala una crispeta familiar.\n",
        "\n",
        "Para funciones después de las 6:00 p.m., el precio de la entrada es general:\n",
        "\n",
        "- # Entradas del problema:\n",
        "- num_ninos: número de niños en el grupo.\n",
        "- num_adultos: número de adultos en el grupo.\n",
        "- hora_funcion: hora de la función en formato de 24 horas (por ejemplo, 14 para las 2 p.m., 19 para las 7 p.m.).\n",
        "- # Salidas esperadas:\n",
        "El total a pagar por las entradas.\n",
        "Si se obtiene o no la crispeta familiar.\n",
        "\n",
        "#Algoritmo para determinar el total a pagar en el cine\n",
        "1. Iniciar\n",
        "\n",
        "2. Obtener el número de niños que entrará en la función\n",
        "\n",
        "3. Obtener el número de adultas que entrará en la función\n",
        "\n",
        "4. Obtener la hora de la función (0 - 24)\n",
        "\n",
        "5. Determinar el total dependiendo de la hora de la función:\n",
        "\n",
        "Si la hora es menor a 18, entonces: total = num_ninos * 5000+ num_adultos . 7500 I\n",
        "\n",
        "Si la hora es mayor o igual a 18, entonces: total = (num_ninos + num_adultos) * 10000\n",
        "6. mostrar total\n",
        "7. Si el total a pagar es mayor a $50,000 COP, otorgar una crispeta familiar.\n",
        "8. finalizar\n",
        "\n",
        "´´´\n",
        "# Pseudocódigo\n",
        "Program calcularCostoBoletas\n",
        "Start\n",
        "    // Programa para calcular el total de las entradas a cine\n",
        "    Declare Int num_ninos\n",
        "    Declare Int num_adultos\n",
        "    Declare Int hora\n",
        "    Declare Float total\n",
        "\n",
        "    // Obtener las entradas\n",
        "    Display \"Ingrese el número de niños: \"\n",
        "    Input num_ninos\n",
        "    Display \"Ingrese el número de adultos: \"\n",
        "    Input num_adultos\n",
        "    Display \"Ingrese la hora de la función (0 - 23): \"\n",
        "    Input hora\n",
        "\n",
        "    // Calcular el total a pagar según la hora de la función\n",
        "    If hora_funcion < 18 Then\n",
        "        Set total_a_pagar = (num_ninos * PRECIO_NINOS) + (num_adultos * PRECIO_ADULTOS)\n",
        "    Else\n",
        "        Set total_a_pagar = (num_ninos + num_adultos) * PRECIO_GENERAL\n",
        "    End If\n",
        "\n",
        "    // Verificar si se obtiene la crispeta familiar\n",
        "    If total_a_pagar > LIMITE_CRISPETA Then\n",
        "        Set crispeta_familiar = True\n",
        "    Else\n",
        "        Set crispeta_familiar = False\n",
        "    End If\n",
        "\n",
        "    // Mostrar el total a pagar y si se obtiene la crispeta familiar\n",
        "     Display \"El total a pagar es \", total\n",
        "\n",
        "    // Determinar si el grupo se gana unas crispetas\n",
        "    If total > 50000 Then\n",
        "    Display \"Se ha ganado unas crispetas familiar.\"\n",
        "    End If\n",
        "  \n",
        "    Display \"Disfrute de la función :)\"\n",
        "\n",
        "End\n",
        "´´´\n"
      ],
      "metadata": {
        "id": "dLreg1ad6lwF"
      }
    },
    {
      "cell_type": "code",
      "source": [
        "num_ninos = int(input(\"Ingrese el número de niños: \"))\n",
        "num_adultos = int(input(\"Ingrese el número de adultos: \"))\n",
        "hora = int(input(\"Ingrese la hora de la función (0 - 23): \"))\n",
        "\n",
        "if hora < 18:\n",
        "  total = num_ninos * 5000 + num_adultos * 7500\n",
        "else:\n",
        "  total = (num_ninos + num_adultos) * 10000\n",
        "\n",
        "print(\"El total a pagar es $\", total)\n",
        "\n",
        "if total > 50000:\n",
        "  print(\"Se ha ganado unas crispetas familiar.\")\n",
        "\n",
        "print(\"Disfrute de la función :)\")"
      ],
      "metadata": {
        "colab": {
          "base_uri": "https://localhost:8080/"
        },
        "id": "U9GY_UNi_zaM",
        "outputId": "dc9e1c8b-945f-4705-9ba0-3baf5f43099d"
      },
      "execution_count": 1,
      "outputs": [
        {
          "output_type": "stream",
          "name": "stdout",
          "text": [
            "Ingrese el número de niños: 2\n",
            "Ingrese el número de adultos: 3\n",
            "Ingrese la hora de la función (0 - 23): 15\n",
            "El total a pagar es $ 32500\n",
            "Disfrute de la función :)\n"
          ]
        }
      ]
    },
    {
      "cell_type": "markdown",
      "source": [],
      "metadata": {
        "id": "WkujPmj-8Q47"
      }
    }
  ]
}